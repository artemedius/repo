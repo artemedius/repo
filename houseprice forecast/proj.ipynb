{
 "cells": [
  {
   "cell_type": "code",
   "execution_count": 88,
   "metadata": {},
   "outputs": [],
   "source": [
    "import pandas as pd\n",
    "from xgboost import XGBRegressor\n",
    "from sklearn.impute import SimpleImputer\n",
    "test_url = \"https://raw.githubusercontent.com/artemedius/repo/main/houseprice%20forecast/test.csv\"\n",
    "train_url = \"https://raw.githubusercontent.com/artemedius/repo/main/houseprice%20forecast/train.csv\"\n",
    "test = pd.read_csv(test_url)\n",
    "train = pd.read_csv(train_url)"
   ]
  },
  {
   "cell_type": "code",
   "execution_count": 89,
   "metadata": {},
   "outputs": [],
   "source": [
    "train_y = train['SalePrice']\n",
    "\n",
    "predictor_cols = ['LotArea', 'OverallQual', 'YearBuilt', 'TotRmsAbvGrd']\n",
    "train_x = train[predictor_cols]\n",
    "test_x = test[predictor_cols]\n",
    "\n",
    "my_imputer = SimpleImputer()\n",
    "train_X = my_imputer.fit_transform(train_x)\n",
    "test_X = my_imputer.transform(test_x)"
   ]
  },
  {
   "cell_type": "code",
   "execution_count": 90,
   "metadata": {},
   "outputs": [],
   "source": [
    "model = XGBRegressor()\n",
    "model.fit(train_x, train_y)\n",
    "\n",
    "test_x = test[predictor_cols]\n",
    "predicted_prices = model.predict(test_x)"
   ]
  },
  {
   "cell_type": "code",
   "execution_count": 91,
   "metadata": {},
   "outputs": [],
   "source": [
    "submission = pd.read_csv('submission.csv')\n",
    "submission['SalePrice'] = predicted_prices"
   ]
  }
 ],
 "metadata": {
  "kernelspec": {
   "display_name": "Python 3.10.4 64-bit",
   "language": "python",
   "name": "python3"
  },
  "language_info": {
   "codemirror_mode": {
    "name": "ipython",
    "version": 3
   },
   "file_extension": ".py",
   "mimetype": "text/x-python",
   "name": "python",
   "nbconvert_exporter": "python",
   "pygments_lexer": "ipython3",
   "version": "3.10.4"
  },
  "orig_nbformat": 4,
  "vscode": {
   "interpreter": {
    "hash": "081deb9bbfcdd78be5e03965fcfa3483d3a474d29e4c364c7d5ea2f48cb29979"
   }
  }
 },
 "nbformat": 4,
 "nbformat_minor": 2
}
